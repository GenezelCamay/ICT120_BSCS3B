{
  "nbformat": 4,
  "nbformat_minor": 0,
  "metadata": {
    "colab": {
      "name": "CamayBSCS3B_chatbot.ipynb",
      "provenance": [],
      "collapsed_sections": [],
      "authorship_tag": "ABX9TyNswEbf4s1lVddsjtqOQmak",
      "include_colab_link": true
    },
    "kernelspec": {
      "name": "python3",
      "display_name": "Python 3"
    },
    "language_info": {
      "name": "python"
    }
  },
  "cells": [
    {
      "cell_type": "markdown",
      "metadata": {
        "id": "view-in-github",
        "colab_type": "text"
      },
      "source": [
        "<a href=\"https://colab.research.google.com/github/GenezelCamay/ICT120_BSCS3B/blob/main/CamayBSCS3B_chatbot.ipynb\" target=\"_parent\"><img src=\"https://colab.research.google.com/assets/colab-badge.svg\" alt=\"Open In Colab\"/></a>"
      ]
    },
    {
      "cell_type": "code",
      "metadata": {
        "colab": {
          "base_uri": "https://localhost:8080/"
        },
        "id": "qtDxXiDq2Bfq",
        "outputId": "595891eb-a4a8-4146-9768-011bb5ce581a"
      },
      "source": [
        " # Importing modules\n",
        " \n",
        "import re\n",
        "from nltk.corpus import wordnet\n",
        "import nltk\n",
        "nltk.download('wordnet')"
      ],
      "execution_count": null,
      "outputs": [
        {
          "output_type": "stream",
          "text": [
            "[nltk_data] Downloading package wordnet to /root/nltk_data...\n",
            "[nltk_data]   Package wordnet is already up-to-date!\n"
          ],
          "name": "stdout"
        },
        {
          "output_type": "execute_result",
          "data": {
            "text/plain": [
              "True"
            ]
          },
          "metadata": {
            "tags": []
          },
          "execution_count": 3
        }
      ]
    },
    {
      "cell_type": "code",
      "metadata": {
        "colab": {
          "base_uri": "https://localhost:8080/"
        },
        "id": "oLWWxYRX2bIK",
        "outputId": "895e88e6-d9df-4fac-d035-732867316d9e"
      },
      "source": [
        " # Building a list of Keywords\n",
        " \n",
        "list_words=['hello','timings','check','type']\n",
        "list_syn={}\n",
        "for word in list_words:\n",
        "    synonyms=[]\n",
        "    for syn in wordnet.synsets(word):\n",
        "        for lem in syn.lemmas():\n",
        "            \n",
        "            # Remove any special characters from synonym strings\n",
        "            lem_name = re.sub('[^a-zA-Z0-9 \\n\\.]', ' ', lem.name())\n",
        "            synonyms.append(lem_name)\n",
        "   \n",
        "    list_syn[word]=set(synonyms)\n",
        "    \n",
        "print (list_syn)"
      ],
      "execution_count": null,
      "outputs": [
        {
          "output_type": "stream",
          "text": [
            "{'hello': {'hello', 'hi', 'how do you do', 'howdy', 'hullo'}, 'timings': {'time', 'clock', 'timing'}, 'check': {'check off', 'train', 'tick', 'handicap', 'see', 'break', 'chequer', 'halt', 'mark off', 'tick off', 'stoppage', 'tab', 'stop', 'bank check', 'suss out', 'checker', 'impediment', 'confirmation', 'chip', 'mark', 'hold back', 'look into', 'checkout', 'balk', 'watch', 'insure', 'stay', 'hindrance', 'check out procedure', 'bridle', 'check over', 'see to it', 'check up on', 'check into', 'control', 'retard', 'hitch', 'hold in', 'hold', 'fit', 'curb', 'condition', 'agree', 'moderate', 'jibe', 'ascertain', 'turn back', 'substantiation', 'ensure', 'gibe', 'arrest', 'assure', 'tally', 'check out', 'delay', 'find out', 'go over', 'assay', 'verification', 'determine', 'learn', 'cheque', 'chink', 'correspond', 'check', 'chit', 'hinderance', 'deterrent', 'discipline', 'check mark', 'crack', 'match', 'contain', 'baulk'}, 'type': {'eccentric', 'case', 'type', 'typecast', 'typewrite', 'character'}}\n"
          ],
          "name": "stdout"
        }
      ]
    },
    {
      "cell_type": "code",
      "metadata": {
        "colab": {
          "base_uri": "https://localhost:8080/"
        },
        "id": "bVjJU3ZF5FXi",
        "outputId": "eb903a48-f379-4b26-864c-9d1f5f1f1732"
      },
      "source": [
        "# Building dictionary of Intents & Keywords\n",
        "keywords={}\n",
        "keywords_dict={}\n",
        " \n",
        "# Defining a new key in the keywords dictionary\n",
        "keywords['greet']=[]\n",
        " \n",
        "# Populating the values in the keywords dictionary with synonyms of keywords formatted with RegEx metacharacters \n",
        "for synonym in list(list_syn['hello']):\n",
        "    keywords['greet'].append('.*\\\\b'+synonym+'\\\\b.*')\n",
        " \n",
        "# Defining a new key in the keywords dictionary\n",
        "keywords['timings']=[]\n",
        " \n",
        "# Populating the values in the keywords dictionary with synonyms of keywords formatted with RegEx metacharacters \n",
        "for synonym in list(list_syn['timings']):\n",
        "    keywords['timings'].append('.*\\\\b'+synonym+'\\\\b.*')\n",
        " \n",
        "# Defining a new key in the keywords dictionary\n",
        "keywords['check']=[]\n",
        " \n",
        "# Populating the values in the keywords dictionary with synonyms of keywords formatted with RegEx metacharacters \n",
        "for synonym in list(list_syn['check']):\n",
        "    keywords['check'].append('.*\\\\b'+synonym+'\\\\b.*') \n",
        " \n",
        "# Defining a new key in the keywords dictionary\n",
        "keywords['type']=[]\n",
        " \n",
        "# Populating the values in the keywords dictionary with synonyms of keywords formatted with RegEx metacharacters \n",
        "for synonym in list(list_syn['type']):\n",
        "    keywords['type'].append('.*\\\\b'+synonym+'\\\\b.*') \n",
        "for intent, keys in keywords.items():\n",
        "    \n",
        "    # Joining the values in the keywords dictionary with the OR (|) operator updating them in keywords_dict dictionary\n",
        "    keywords_dict[intent]=re.compile('|'.join(keys))\n",
        "print (keywords_dict)"
      ],
      "execution_count": null,
      "outputs": [
        {
          "output_type": "stream",
          "text": [
            "{'greet': re.compile('.*\\\\bhello\\\\b.*|.*\\\\bhi\\\\b.*|.*\\\\bhow do you do\\\\b.*|.*\\\\bhowdy\\\\b.*|.*\\\\bhullo\\\\b.*'), 'timings': re.compile('.*\\\\btime\\\\b.*|.*\\\\bclock\\\\b.*|.*\\\\btiming\\\\b.*'), 'check': re.compile('.*\\\\bcheck off\\\\b.*|.*\\\\btrain\\\\b.*|.*\\\\btick\\\\b.*|.*\\\\bhandicap\\\\b.*|.*\\\\bsee\\\\b.*|.*\\\\bbreak\\\\b.*|.*\\\\bchequer\\\\b.*|.*\\\\bhalt\\\\b.*|.*\\\\bmark off\\\\b.*|.*\\\\btick off\\\\b.*|.*\\\\bstoppage\\\\b.*|.*\\\\btab\\), 'type': re.compile('.*\\\\beccentric\\\\b.*|.*\\\\bcase\\\\b.*|.*\\\\btype\\\\b.*|.*\\\\btypecast\\\\b.*|.*\\\\btypewrite\\\\b.*|.*\\\\bcharacter\\\\b.*')}\n"
          ],
          "name": "stdout"
        }
      ]
    },
    {
      "cell_type": "code",
      "metadata": {
        "id": "ZG-ywZf-L8U-"
      },
      "source": [
        " \n",
        "# Building a dictionary of responses\n",
        "responses={\n",
        "    'greet':'Hello! How can I help you?',\n",
        "    'timings':'We are open from 9AM to 5PM, Monday to Friday. We are closed on weekends and public holidays.',\n",
        "    'check': 'Would you like to check balance?',\n",
        "    'type': 'Choose your account.',\n",
        "    'ask': 'How can I open a bank account?',\n",
        "    'fallback':'I dont quite understand. Could you repeat that?',\n",
        "    \n",
        "}"
      ],
      "execution_count": null,
      "outputs": []
    },
    {
      "cell_type": "code",
      "metadata": {
        "colab": {
          "base_uri": "https://localhost:8080/"
        },
        "id": "WikJbRGI67Q_",
        "outputId": "286158e2-7d39-443c-a52d-f8f9a096cbc1"
      },
      "source": [
        " print (\"Welcome to MyBank. How may I help you?.Thank you for choosing MyBank.\")\n",
        " \n",
        "# While loop to run the chatbot indefinetely\n",
        "while (True):  \n",
        "    \n",
        "    # Takes the user input and converts all characters to lowercase\n",
        "    user_input = input().lower()\n",
        "    \n",
        "    # Defining the Chatbot's exit condition\n",
        "    if user_input == 'quit': \n",
        "        print (\"Thank you for visiting MyBank.Come Again.\")\n",
        "        break    \n",
        "    \n",
        "    matched_intent = None \n",
        "    \n",
        "    for intent,pattern in keywords_dict.items():\n",
        "        \n",
        "        # Using the regular expression search function to look for keywords in user input\n",
        "        if re.search(pattern, user_input): \n",
        "            \n",
        "            # if a keyword matches, select the corresponding intent from the keywords_dict dictionary\n",
        "            matched_intent=intent  \n",
        "    \n",
        "    # The fallback intent is selected by default\n",
        "    key='fallback' \n",
        "    if matched_intent in responses:\n",
        "        \n",
        "        # If a keyword matches, the fallback intent is replaced by the matched intent as the key for the responses dictionary\n",
        "        key = matched_intent \n",
        "    \n",
        "    # The chatbot prints the response that matches the selected intent\n",
        "    print (responses[key])"
      ],
      "execution_count": null,
      "outputs": [
        {
          "output_type": "stream",
          "text": [
            "Welcome to MyBank. How may I help you?.Thank you for choosing MyBank.\n",
            "Case\n",
            "Choose your account.\n",
            "Typewrite\n",
            "Choose your account.\n",
            "Character\n",
            "Choose your account.\n",
            "Correspond\n",
            "Would you like to check balance?\n",
            "Cheque\n",
            "Would you like to check balance?\n",
            "Quit\n",
            "Thank you for visiting MyBank.Come Again.\n"
          ],
          "name": "stdout"
        }
      ]
    }
  ]
}